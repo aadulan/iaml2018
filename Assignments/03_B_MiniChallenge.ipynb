{
 "cells": [
  {
   "cell_type": "markdown",
   "metadata": {},
   "source": [
    "# Introductory applied machine learning (INFR10069)\n",
    "# Assignment 3 (Part B): Mini-Challenge [25%]"
   ]
  },
  {
   "cell_type": "markdown",
   "metadata": {},
   "source": [
    "## Important Instructions\n",
    "\n",
    "**It is important that you follow the instructions below to the letter - we will not be responsible for incorrect marking due to non-standard practices.**\n",
    "\n",
    "1. <font color='red'>We have split Assignment 3 into two parts to make it easier for you to work on them separately and for the markers to give you feedback. This is part B of Assignment 3 - Part A is an introduction to Object Recognition. Both Assignments together are still worth 50% of CourseWork 2. **Remember to submit both notebooks (you can submit them separately).**</font>\n",
    "\n",
    "1. You *MUST* have your environment set up as in the [README](https://github.com/michael-camilleri/IAML2018) and you *must activate this environment before running this notebook*:\n",
    "```\n",
    "source activate py3iaml\n",
    "cd [DIRECTORY CONTAINING GIT REPOSITORY]\n",
    "jupyter notebook\n",
    "# Navigate to this file\n",
    "```\n",
    "\n",
    "1. Read the instructions carefully, especially where asked to name variables with a specific name. Wherever you are required to produce code you should use code cells, otherwise you should use markdown cells to report results and explain answers. In most cases we indicate the nature of answer we are expecting (code/text), and also provide the code/markdown cell where to put it\n",
    "\n",
    "1. This part of the Assignment is the same for all students i.e. irrespective of whether you are taking the Level 10 version (INFR10069) or the Level-11 version of the course (INFR11182 and INFR11152).\n",
    "\n",
    "1. The .csv files that you will be using are located at `./datasets` (i.e. use the `datasets` directory **adjacent** to this file).\n",
    "\n",
    "1. In the textual answer, you are given a word-count limit of 600 words: exceeding this will lead to penalisation.\n",
    "\n",
    "1. Make sure to distinguish between **attributes** (columns of the data) and **features** (which typically refers only to the independent variables, i.e. excluding the target variables).\n",
    "\n",
    "1. Make sure to show **all** your code/working. \n",
    "\n",
    "1. Write readable code. While we do not expect you to follow [PEP8](https://www.python.org/dev/peps/pep-0008/) to the letter, the code should be adequately understandable, with plots/visualisations correctly labelled. **Do** use inline comments when doing something non-standard. When asked to present numerical values, make sure to represent real numbers in the appropriate precision to exemplify your answer. Marks *WILL* be deducted if the marker cannot understand your logic/results.\n",
    "\n",
    "1. **Collaboration:** You may discuss the assignment with your colleagues, provided that the writing that you submit is entirely your own. That is, you must NOT borrow actual text or code from others. We ask that you provide a list of the people who you've had discussions with (if any). Please refer to the [Academic Misconduct](http://web.inf.ed.ac.uk/infweb/admin/policies/academic-misconduct) page for what consistutes a breach of the above.\n",
    "\n",
    "\n",
    "### SUBMISSION Mechanics\n",
    "\n",
    "**IMPORTANT:** You must submit this assignment by **Thursday 15/11/2018 at 16:00**. \n",
    "\n",
    "**Late submissions:** The policy stated in the School of Informatics is that normally you will not be allowed to submit coursework late. See the [ITO webpage](http://web.inf.ed.ac.uk/infweb/student-services/ito/admin/coursework-projects/late-coursework-extension-requests) for exceptions to this, e.g. in case of serious medical illness or serious personal problems.\n",
    "\n",
    "**Resubmission:** If you submit your file(s) again, the previous submission is **overwritten**. We will mark the version that is in the submission folder at the deadline.\n",
    "\n",
    "**N.B.**: This Assignment requires submitting **two files (electronically as described below)**:\n",
    " 1. This Jupyter Notebook (Part B), *and*\n",
    " 1. The Jupyter Notebook for Part A\n",
    " \n",
    "All submissions happen electronically. To submit:\n",
    "\n",
    "1. Fill out this notebook (as well as Part A), making sure to:\n",
    "   1. save it with **all code/text and visualisations**: markers are NOT expected to run any cells,\n",
    "   1. keep the name of the file **UNCHANGED**, *and*\n",
    "   1. **keep the same structure**: retain the questions, **DO NOT** delete any cells and **avoid** adding unnecessary cells unless absolutely necessary, as this makes the job harder for the markers. This is especially important for the textual description and probability output (below).\n",
    "\n",
    "1. Submit it using the `submit` functionality. To do this, you must be on a DICE environment. Open a Terminal, and:\n",
    "   1. **On-Campus Students**: navigate to the location of this notebook and execute the following command:\n",
    "   \n",
    "      ```submit iaml cw2 03_A_ObjectRecognition.ipynb 03_B_MiniChallenge.ipynb```\n",
    "      \n",
    "   1. **Distance Learners:** These instructions also apply to those students who work on their own computer. First you need to copy your work onto DICE (so that you can use the `submit` command). For this, you can use `scp` or `rsync` (you may need to install these yourself). You can copy files to `student.ssh.inf.ed.ac.uk`, then ssh into it in order to submit. The following is an example. Replace entries in `[square brackets]` with your specific details: i.e. if your student number is for example s1234567, then `[YOUR USERNAME]` becomes `s1234567`.\n",
    "   \n",
    "    ```\n",
    "    scp -r [FULL PATH TO 03_A_ObjectRecognition.ipynb] [YOUR USERNAME]@student.ssh.inf.ed.ac.uk:03_A_ObjectRecognition.ipynb\n",
    "    scp -r [FULL PATH TO 03_B_MiniChallenge.ipynb] [YOUR USERNAME]@student.ssh.inf.ed.ac.uk:03_B_MiniChallenge.ipynb\n",
    "    ssh [YOUR USERNAME]@student.ssh.inf.ed.ac.uk\n",
    "    ssh student.login\n",
    "    submit iaml cw2 03_A_ObjectRecognition.ipynb 03_B_MiniChallenge.ipynb\n",
    "    ```\n",
    "    \n",
    "   What actually happens in the background is that your file is placed in a folder available to markers. If you submit a file with the same name into the same location, **it will *overwrite* your previous submission**. You should receive an automatic email confirmation after submission.\n",
    "  \n",
    "\n",
    "\n",
    "### Marking Breakdown\n",
    "\n",
    "The Level 10 and Level 11 points are marked out of different totals, however these are all normalised to 100%. Note that Part A (Object Recognition) is worth 75% of the total Mark for Assignment 3, while Part B (this notebook) is worth 25%. Keep this in mind when allocating time for this assignment.\n",
    "\n",
    "**70-100%** results/answer correct plus extra achievement at understanding or analysis of results. Clear explanations, evidence of creative or deeper thought will contribute to a higher grade.\n",
    "\n",
    "**60-69%** results/answer correct or nearly correct and well explained.\n",
    "\n",
    "**50-59%** results/answer in right direction but significant errors.\n",
    "\n",
    "**40-49%** some evidence that the student has gained some understanding, but not answered the questions\n",
    "properly.\n",
    "\n",
    "**0-39%** serious error or slack work.\n",
    "\n",
    "Note that while this is not a programming assignment, in questions which involve visualisation of results and/or long cold snippets, some marks may be deducted if the code is not adequately readable."
   ]
  },
  {
   "cell_type": "markdown",
   "metadata": {},
   "source": [
    "## Imports\n",
    "\n",
    "Use the cell below to include any imports you deem necessary."
   ]
  },
  {
   "cell_type": "code",
   "execution_count": 1,
   "metadata": {},
   "outputs": [
    {
     "name": "stderr",
     "output_type": "stream",
     "text": [
      "/anaconda3/envs/py3iaml/lib/python3.7/site-packages/sklearn/utils/__init__.py:4: DeprecationWarning: Using or importing the ABCs from 'collections' instead of from 'collections.abc' is deprecated, and in 3.8 it will stop working\n",
      "  from collections import Sequence\n"
     ]
    }
   ],
   "source": [
    "# Nice Formatting within Jupyter Notebook\n",
    "%matplotlib inline\n",
    "from IPython.display import display # Allows multiple displays from a single code-cell\n",
    "\n",
    "# System functionality\n",
    "import sys\n",
    "sys.path.append('..')\n",
    "\n",
    "# Import Here any Additional modules you use. To import utilities we provide, use something like:\n",
    "#   from utils.plotter import plot_hinton\n",
    "\n",
    "import os\n",
    "import numpy as np \n",
    "import pandas as pd\n",
    "import matplotlib.pyplot as plt\n",
    "import seaborn as sns\n",
    "from sklearn.metrics import confusion_matrix\n",
    "from sklearn.linear_model import LogisticRegression\n",
    "from sklearn.model_selection import KFold, cross_val_predict, cross_val_score\n",
    "from sklearn.naive_bayes import GaussianNB\n",
    "from sklearn.decomposition import PCA\n",
    "from sklearn.metrics import log_loss\n",
    "from utils.plotter import plot_SVM_DecisionBoundary\n",
    "sns.set()\n",
    "\n",
    "# Your Code goes here:"
   ]
  },
  {
   "cell_type": "markdown",
   "metadata": {},
   "source": [
    "# Mini challenge\n",
    "\n",
    "In this second part of the assignment we will have a mini object-recognition challenge. Using the same type of data as in Part A, you are asked to find the best classifier for the person/no person classification task. You can apply any preprocessing steps to the data that you think fit and employ any classifier you like (with the provision that you can explain what the classifier is/preprocessing steps are doing). You can also employ any lessons learnt during the course, either from previous Assignments, the Labs or the lecture material to try and squeeze out as much performance as you possibly can. The only restriction is that all steps must be performed in `Python` by using the `numpy`, `pandas` and `sklearn` packages. You can also make use of `matplotlib` and `seaborn` for visualisation.\n",
    "\n",
    "### DataSet Description\n",
    "\n",
    "The datasets we use here are similar in composition but not the same as the ones used in Part A: *it will be useful to revise the description in that notebook*. Specifically, you have access to three new datasets: a training set (`Images_C_Train.csv`), a validation set (`Images_C_Validate.csv`), and a test set (`Images_C_Test.csv`). You must use the former two for training and evaluating your models (as you see fit). As before, the full data-set has 520 attributes (dimensions). Of these you only have access to the 500 features (`dim1` through `dim500`) to test your model on: i.e. the test set does not have any of the class labels.\n",
    "\n",
    "### Model Evaluation\n",
    "\n",
    "Your results will be evaluated in terms of the logarithmic loss metric, specifically the [logloss](http://scikit-learn.org/0.19/modules/model_evaluation.html#log-loss) function from SKLearn. You should familiarise yourself with this. To estimate this metric you will need to provide probability outputs, as opposed to discrete predictions which we have used so far to compute classification accuracies. Most models in `sklearn` implement a `predict_proba()` method which returns the probabilities for each class. For instance, if your test set consists of `N` datapoints and there are `K` class-labels, the method will return an `N` x `K` matrix (with rows summing to 1).\n",
    "\n",
    "### Submission and Scoring\n",
    "\n",
    "This part of Assignment 3 carries 25% of the total marks. Within this, you will be scored on two criteria:\n",
    " 1. 80% of the mark will depend on the thoroughness of the exploration of various approaches. This will be assessed through your code, as well as a brief description (<600 words) justifying the approaches you considered, your exploration pattern and your suggested final approach (and why you chose it).\n",
    " 1. 20% of the mark will depend on the quality of your predictions: this will be evaluated based on the logarithmic loss metric.\n",
    "Note here that just getting exceptional performance is not enough: in fact, you should focus more on analysing your results that just getting the best score!\n",
    "\n",
    "You have to submit the following:\n",
    " 1. **All Code-Cells** which show your **working** with necessary output/plots already generated.\n",
    " 1. In **TEXT** cell `#ANSWER_TEXT#` you are to write your explanation (<600 words) as described above. Keep this brief and to the point. **Make sure** to keep the token `#ANSWER_TEXT#` as the first line of the cell!\n",
    " 1. In **CODE** cell `#ANSWER_PROB#` you are to submit your predictions. To do this:\n",
    "    1. Once you have chosen your favourite model (and pre-processing steps) apply it to the test-set and estimate the posterior proabilities for the data points in the test set.\n",
    "    1. Store these probabilities in a 2D numpy array named `pred_probabilities`, with predictions along the rows i.e. each row should be a complete probability distribution over whether the image contains a person or not. Note that due to the encoding of the `is_person` class, the negative case (i.e. there is no person) comes first.\n",
    "    1. Execute the `#ANSWER_PROB#` code cell, making sure to not change anything. This cell will do some checks to ensure that you are submitting the right shape of array.\n",
    "\n",
    "You may create as many code cells as you need (within reason) for training your models, evaluating the data etc: however, the text cell `#ANSWER_TEXT#` and code-cell `#ANSWER_PROB#` showing your answers must be the last two cells in the notebook."
   ]
  },
  {
   "cell_type": "code",
   "execution_count": 2,
   "metadata": {},
   "outputs": [],
   "source": [
    "# This is where your working code should start. Fell free to add as many code-cells as necessary.\n",
    "#  Make sure however that all working code cells come BEFORE the #ANSWER_TEXT# and #ANSWER_PROB#\n",
    "#  cells below.\n",
    "\n",
    "\n",
    "# import the data \n",
    "c_img = pd.read_csv(os.path.join(os.getcwd(), 'datasets', 'Images_C_Train.csv'))\n",
    "c_validate = pd.read_csv(os.path.join(os.getcwd(), 'datasets', 'Images_C_Validate.csv'))\n",
    "c_test = pd.read_csv(os.path.join(os.getcwd(), 'datasets', 'Images_C_Test.csv'))\n",
    "\n",
    "# collect the features and the is_person column\n",
    "c_img = pd.concat([c_img.iloc[:,0:501],c_img['is_person']],axis =1)\n",
    "c_validate = pd.concat([c_validate.iloc[:,0:501],c_validate['is_person']],axis =1)\n",
    "\n",
    "#----Split the data \n",
    "X_train = c_img.drop(['is_person','imgId'], axis=1)\n",
    "y_train =c_img['is_person']\n",
    "\n",
    "X_validate = c_validate.drop(['is_person','imgId'], axis=1)\n",
    "y_validate =c_validate['is_person']\n",
    "\n",
    "X_test = c_test.drop(['is_person'], axis=1)\n",
    "y_test =c_test['is_person']\n",
    "\n"
   ]
  },
  {
   "cell_type": "code",
   "execution_count": 3,
   "metadata": {},
   "outputs": [
    {
     "data": {
      "text/plain": [
       "'The log loss for the Gaussian is 18.1848'"
      ]
     },
     "metadata": {},
     "output_type": "display_data"
    },
    {
     "data": {
      "image/png": "[encoded data removed]",
      "text/plain": [
       "<Figure size 576x576 with 1 Axes>"
      ]
     },
     "metadata": {
      "needs_background": "light"
     },
     "output_type": "display_data"
    }
   ],
   "source": [
    "#---- CEll 1 :Gaussian Classifier \n",
    "\n",
    "g_classifier = GaussianNB() \n",
    "g_classifier.fit(X_train,y_train)\n",
    "pred_v = g_classifier.predict_proba(X_validate)\n",
    "pred_t = g_classifier.predict_proba(X_test)\n",
    "l_loss = log_loss(y_validate,pred_v)\n",
    "display('The log loss for the Gaussian is {:.4f}'.format(l_loss))\n",
    "\n",
    "\n",
    "preds_v = g_classifier.predict(X_validate)\n",
    "preds_t = g_classifier.predict(X_test)\n",
    "\n",
    "cm_v = confusion_matrix(y_validate,preds_v)\n",
    "\n",
    "plt.figure(figsize=(8,8))\n",
    "\n",
    "sns.heatmap(cm_v,\n",
    "            cmap='Blues',\n",
    "            annot=True,\n",
    "            fmt=\"d\",\n",
    "           cbar=False)\n",
    "           \n",
    "plt.ylabel('Actual Values')\n",
    "plt.xlabel('Predicted Values')\n",
    "plt.title('Predicted Values for The Validation Set')\n",
    "plt.show()"
   ]
  },
  {
   "cell_type": "code",
   "execution_count": 4,
   "metadata": {},
   "outputs": [],
   "source": [
    "#------ CELL 2:PCA Gaussian Classifier\n",
    "\n",
    "\n",
    "# range for pca components\n",
    "pca_range = np.linspace(1, 500, 20, dtype=int)\n",
    "\n",
    "log_loss_gb = []\n",
    "\n",
    "# for loop to calculate log loss and accuracy for different components\n",
    "for i in pca_range:\n",
    "    pca = PCA(n_components=i)\n",
    "\n",
    "    train = pca.fit_transform(X_train)\n",
    "    validate = pca.transform(X_validate)\n",
    "    \n",
    "    pclf = GaussianNB()\n",
    "    pclf.fit(train,y_train)\n",
    "    preds = pclf.predict_proba(validate)\n",
    "    \n",
    "    loss =log_loss(y_validate, preds)\n",
    "    log_loss_gb.append(loss)\n",
    "    acc = pclf.score(validate, y_validate)\n",
    "    \n",
    "#     print('For {} components we have a log loss of {:.4f} and an accuracy of {:.4f}'.format(i,loss,acc))\n",
    "\n"
   ]
  },
  {
   "cell_type": "code",
   "execution_count": null,
   "metadata": {},
   "outputs": [],
   "source": [
    "#CELL 2 - PLOT THE GRAPH\n",
    "\n",
    "# create a figure\n",
    "plt.figure(figsize=(15,8))  \n",
    "\n",
    "# plot the log loss \n",
    "g = sns.lineplot(x=pca_range,\n",
    "                 y=log_loss_gb,\n",
    "                 label='log loss for validation',\n",
    "                 color='k')\n",
    "plt.ylabel('Log Loss Score for Validation Set')\n",
    "\n",
    "ax2 = g.twinx()\n",
    "\n",
    "# plot the accuracy score\n",
    "sns.lineplot(x=pca_range,\n",
    "             y=acc,\n",
    "             label='accuracy score for validation',\n",
    "             color='red')\n",
    "\n",
    "plt.ylabel('Accuracy Score for Validation Set')\n",
    "\n",
    "#--Title\n",
    "plt.title('Log loss and Accuracy for Validation Set')\n",
    "plt.show()\n",
    "\n",
    "display('min log loss is {:.4f} -> {} components'.format(min(log_loss_gb),\n",
    "                                                         pca_range[np.argmin(log_loss_gb)]))\n",
    "display('max log loss is {:.4f} -> {} components'.format(max(log_loss_gb),\n",
    "                                                         pca_range[np.argmax(log_loss_gb)]))"
   ]
  },
  {
   "cell_type": "code",
   "execution_count": null,
   "metadata": {},
   "outputs": [],
   "source": []
  },
  {
   "cell_type": "code",
   "execution_count": 6,
   "metadata": {},
   "outputs": [
    {
     "data": {
      "text/plain": [
       "'The log loss for Linear SVM is 0.6920'"
      ]
     },
     "metadata": {},
     "output_type": "display_data"
    },
    {
     "data": {
      "text/plain": [
       "'The log loss for RBF SVM is 0.6930'"
      ]
     },
     "metadata": {},
     "output_type": "display_data"
    },
    {
     "data": {
      "text/plain": [
       "'The log loss for polynoimal SVM is 0.6929'"
      ]
     },
     "metadata": {},
     "output_type": "display_data"
    },
    {
     "data": {
      "text/plain": [
       "'The accuracy for Linear SVM is 0.5265'"
      ]
     },
     "metadata": {},
     "output_type": "display_data"
    },
    {
     "data": {
      "text/plain": [
       "'The accuracy for RBF SVM is 0.5265'"
      ]
     },
     "metadata": {},
     "output_type": "display_data"
    },
    {
     "data": {
      "text/plain": [
       "'The accuracy for polynoimal SVM is 0.5265'"
      ]
     },
     "metadata": {},
     "output_type": "display_data"
    }
   ],
   "source": [
    "#------ CELL 3:Support Vector Machine \n",
    "\n",
    "from sklearn.svm import SVC\n",
    "from utils.plotter import plot_SVM_DecisionBoundary\n",
    "\n",
    "# train SVMs and trains it\n",
    "linear = SVC(kernel='linear' , probability=True)\n",
    "rbf = SVC(kernel='rbf', gamma='auto', probability=True)\n",
    "polynomial = SVC(kernel='poly', degree=2, probability=True)\n",
    "\n",
    "linear.fit(X_train, y_train)\n",
    "rbf.fit(X_train, y_train)\n",
    "polynomial.fit(X_train, y_train)\n",
    "\n",
    "preds_linear = linear.predict_proba(X_validate)\n",
    "preds_rbf = rbf.predict_proba(X_validate)\n",
    "preds_polynomial = polynomial.predict_proba(X_validate)\n",
    "\n",
    "ll_linear = log_loss(y_validate, preds_linear)\n",
    "ll_rbf = log_loss(y_validate, preds_rbf)\n",
    "ll_polynoimal = log_loss(y_validate, preds_polynomial)\n",
    "\n",
    "acc_linear = linear.score(X_validate,y_validate)\n",
    "acc_rbf = rbf.score(X_validate,y_validate)\n",
    "acc_polynomial = polynomial.score(X_validate,y_validate)\n",
    "\n",
    "display('The log loss for Linear SVM is {:.4f}'.format(ll_linear))\n",
    "display('The log loss for RBF SVM is {:.4f}'.format(ll_rbf))\n",
    "display('The log loss for polynoimal SVM is {:.4f}'.format(ll_polynoimal))\n",
    "\n",
    "display('The accuracy for Linear SVM is {:.4f}'.format(acc_linear))\n",
    "display('The accuracy for RBF SVM is {:.4f}'.format(acc_rbf))\n",
    "display('The accuracy for polynoimal SVM is {:.4f}'.format(acc_polynomial))\n"
   ]
  },
  {
   "cell_type": "code",
   "execution_count": 7,
   "metadata": {},
   "outputs": [
    {
     "data": {
      "text/plain": [
       "'The log loss for Logistic Regression is 0.6795'"
      ]
     },
     "metadata": {},
     "output_type": "display_data"
    }
   ],
   "source": [
    "#------ CELL 4: LOGISITIC REGRESSION\n",
    "\n",
    "from sklearn.linear_model import LogisticRegression\n",
    "\n",
    "clf = LogisticRegression(solver ='lbfgs')\n",
    "clf.fit(X_train,y_train)\n",
    "preds_reg = clf.predict_proba(X_validate)\n",
    "ll_reg = log_loss(y_validate, preds_reg)\n",
    "\n",
    "display('The log loss for Logistic Regression is {:.4f}'.format(ll_reg))"
   ]
  },
  {
   "cell_type": "code",
   "execution_count": 8,
   "metadata": {},
   "outputs": [
    {
     "data": {
      "text/plain": [
       "'C=0.0000 -> log loss = 0.6930, acc = 0.5265'"
      ]
     },
     "metadata": {},
     "output_type": "display_data"
    },
    {
     "data": {
      "text/plain": [
       "'C=0.0000 -> log loss = 0.6930, acc = 0.5265'"
      ]
     },
     "metadata": {},
     "output_type": "display_data"
    },
    {
     "data": {
      "text/plain": [
       "'C=0.0001 -> log loss = 0.6929, acc = 0.5265'"
      ]
     },
     "metadata": {},
     "output_type": "display_data"
    },
    {
     "data": {
      "text/plain": [
       "'C=0.0004 -> log loss = 0.6929, acc = 0.5265'"
      ]
     },
     "metadata": {},
     "output_type": "display_data"
    },
    {
     "data": {
      "text/plain": [
       "'C=0.0013 -> log loss = 0.6929, acc = 0.5265'"
      ]
     },
     "metadata": {},
     "output_type": "display_data"
    },
    {
     "data": {
      "text/plain": [
       "'C=0.0043 -> log loss = 0.6928, acc = 0.5265'"
      ]
     },
     "metadata": {},
     "output_type": "display_data"
    },
    {
     "data": {
      "text/plain": [
       "'C=0.0144 -> log loss = 0.6926, acc = 0.5265'"
      ]
     },
     "metadata": {},
     "output_type": "display_data"
    },
    {
     "data": {
      "text/plain": [
       "'C=0.0483 -> log loss = 0.6920, acc = 0.5265'"
      ]
     },
     "metadata": {},
     "output_type": "display_data"
    },
    {
     "data": {
      "text/plain": [
       "'C=0.1624 -> log loss = 0.6899, acc = 0.5265'"
      ]
     },
     "metadata": {},
     "output_type": "display_data"
    },
    {
     "data": {
      "text/plain": [
       "'C=0.5456 -> log loss = 0.6844, acc = 0.5265'"
      ]
     },
     "metadata": {},
     "output_type": "display_data"
    },
    {
     "data": {
      "text/plain": [
       "'C=1.8330 -> log loss = 0.6726, acc = 0.5346'"
      ]
     },
     "metadata": {},
     "output_type": "display_data"
    },
    {
     "data": {
      "text/plain": [
       "'C=6.1585 -> log loss = 0.6517, acc = 0.6424'"
      ]
     },
     "metadata": {},
     "output_type": "display_data"
    },
    {
     "data": {
      "text/plain": [
       "'C=20.6914 -> log loss = 0.6260, acc = 0.6703'"
      ]
     },
     "metadata": {},
     "output_type": "display_data"
    },
    {
     "data": {
      "text/plain": [
       "'C=69.5193 -> log loss = 0.6030, acc = 0.6765'"
      ]
     },
     "metadata": {},
     "output_type": "display_data"
    },
    {
     "data": {
      "text/plain": [
       "'C=233.5721 -> log loss = 0.5931, acc = 0.6757'"
      ]
     },
     "metadata": {},
     "output_type": "display_data"
    },
    {
     "data": {
      "text/plain": [
       "'C=784.7600 -> log loss = 0.5945, acc = 0.6846'"
      ]
     },
     "metadata": {},
     "output_type": "display_data"
    },
    {
     "data": {
      "text/plain": [
       "'C=2636.6509 -> log loss = 0.6250, acc = 0.6730'"
      ]
     },
     "metadata": {},
     "output_type": "display_data"
    },
    {
     "data": {
      "text/plain": [
       "'C=8858.6679 -> log loss = 0.6188, acc = 0.6712'"
      ]
     },
     "metadata": {},
     "output_type": "display_data"
    },
    {
     "data": {
      "text/plain": [
       "'C=29763.5144 -> log loss = 0.6185, acc = 0.6712'"
      ]
     },
     "metadata": {},
     "output_type": "display_data"
    },
    {
     "data": {
      "text/plain": [
       "'C=100000.0000 -> log loss = 0.6137, acc = 0.6783'"
      ]
     },
     "metadata": {},
     "output_type": "display_data"
    }
   ],
   "source": [
    "#----- CELL 5: TRYING OUT DIFFERENT C VALUES \n",
    "\n",
    "c_range = np.geomspace(1e-5, 1e5,num=20)\n",
    "\n",
    "ll = []\n",
    "acc = []\n",
    "\n",
    "for c in c_range:\n",
    "    log_reg =LogisticRegression(solver ='lbfgs', C=c)\n",
    "    log_reg.fit(X_train,y_train)\n",
    "    preds = log_reg.predict_proba(X_validate)\n",
    "    loss = log_loss(y_validate, preds)\n",
    "    score = log_reg.score(X_validate, y_validate)\n",
    "    ll.append(loss)\n",
    "    acc.append(score)\n",
    "    \n",
    "    display('C={:.4f} -> log loss = {:.4f}, acc = {:.4f}'.format(c,loss,score))\n"
   ]
  },
  {
   "cell_type": "code",
   "execution_count": null,
   "metadata": {},
   "outputs": [
    {
     "name": "stdout",
     "output_type": "stream",
     "text": [
      "C = 0.0000, n = 1 and acc = 0.5265, log loss = 0.6930\n",
      "C = 0.0000, n = 1 and acc = 0.5265, log loss = 0.6930\n",
      "C = 0.0001, n = 1 and acc = 0.5265, log loss = 0.6930\n",
      "C = 0.0004, n = 1 and acc = 0.5265, log loss = 0.6929\n",
      "C = 0.0013, n = 1 and acc = 0.5265, log loss = 0.6929\n",
      "C = 0.0043, n = 1 and acc = 0.5265, log loss = 0.6929\n",
      "C = 0.0144, n = 1 and acc = 0.5265, log loss = 0.6929\n",
      "C = 0.0483, n = 1 and acc = 0.5265, log loss = 0.6929\n",
      "C = 0.1624, n = 1 and acc = 0.5265, log loss = 0.6929\n",
      "C = 0.5456, n = 1 and acc = 0.5265, log loss = 0.6929\n",
      "C = 1.8330, n = 1 and acc = 0.5265, log loss = 0.6929\n",
      "C = 6.1585, n = 1 and acc = 0.5265, log loss = 0.6929\n",
      "C = 20.6914, n = 1 and acc = 0.5265, log loss = 0.6929\n",
      "C = 69.5193, n = 1 and acc = 0.5265, log loss = 0.6929\n",
      "C = 233.5721, n = 1 and acc = 0.5265, log loss = 0.6929\n",
      "C = 784.7600, n = 1 and acc = 0.5265, log loss = 0.6929\n",
      "C = 2636.6509, n = 1 and acc = 0.5265, log loss = 0.6929\n",
      "C = 8858.6679, n = 1 and acc = 0.5265, log loss = 0.6929\n",
      "C = 29763.5144, n = 1 and acc = 0.5265, log loss = 0.6929\n",
      "C = 100000.0000, n = 1 and acc = 0.5265, log loss = 0.6929\n",
      "C = 0.0000, n = 27 and acc = 0.5265, log loss = 0.6930\n",
      "C = 0.0000, n = 27 and acc = 0.5265, log loss = 0.6930\n",
      "C = 0.0001, n = 27 and acc = 0.5265, log loss = 0.6929\n",
      "C = 0.0004, n = 27 and acc = 0.5265, log loss = 0.6929\n",
      "C = 0.0013, n = 27 and acc = 0.5265, log loss = 0.6929\n",
      "C = 0.0043, n = 27 and acc = 0.5265, log loss = 0.6928\n",
      "C = 0.0144, n = 27 and acc = 0.5265, log loss = 0.6927\n",
      "C = 0.0483, n = 27 and acc = 0.5265, log loss = 0.6920\n",
      "C = 0.1624, n = 27 and acc = 0.5265, log loss = 0.6902\n",
      "C = 0.5456, n = 27 and acc = 0.5265, log loss = 0.6854\n",
      "C = 1.8330, n = 27 and acc = 0.5247, log loss = 0.6757\n",
      "C = 6.1585, n = 27 and acc = 0.6155, log loss = 0.6611\n",
      "C = 20.6914, n = 27 and acc = 0.6253, log loss = 0.6477\n",
      "C = 69.5193, n = 27 and acc = 0.6253, log loss = 0.6415\n",
      "C = 233.5721, n = 27 and acc = 0.6298, log loss = 0.6403\n",
      "C = 784.7600, n = 27 and acc = 0.6307, log loss = 0.6399\n",
      "C = 2636.6509, n = 27 and acc = 0.6361, log loss = 0.6400\n",
      "C = 8858.6679, n = 27 and acc = 0.6316, log loss = 0.6425\n",
      "C = 29763.5144, n = 27 and acc = 0.6289, log loss = 0.6393\n",
      "C = 100000.0000, n = 27 and acc = 0.6298, log loss = 0.6422\n",
      "C = 0.0000, n = 53 and acc = 0.5265, log loss = 0.6930\n",
      "C = 0.0000, n = 53 and acc = 0.5265, log loss = 0.6930\n",
      "C = 0.0001, n = 53 and acc = 0.5265, log loss = 0.6929\n",
      "C = 0.0004, n = 53 and acc = 0.5265, log loss = 0.6929\n",
      "C = 0.0013, n = 53 and acc = 0.5265, log loss = 0.6929\n",
      "C = 0.0043, n = 53 and acc = 0.5265, log loss = 0.6928\n",
      "C = 0.0144, n = 53 and acc = 0.5265, log loss = 0.6926\n",
      "C = 0.0483, n = 53 and acc = 0.5265, log loss = 0.6920\n",
      "C = 0.1624, n = 53 and acc = 0.5265, log loss = 0.6899\n",
      "C = 0.5456, n = 53 and acc = 0.5265, log loss = 0.6845\n",
      "C = 1.8330, n = 53 and acc = 0.5328, log loss = 0.6729\n",
      "C = 6.1585, n = 53 and acc = 0.6361, log loss = 0.6527\n",
      "C = 20.6914, n = 53 and acc = 0.6622, log loss = 0.6290\n",
      "C = 69.5193, n = 53 and acc = 0.6765, log loss = 0.6091\n",
      "C = 233.5721, n = 53 and acc = 0.6703, log loss = 0.6017\n",
      "C = 784.7600, n = 53 and acc = 0.6649, log loss = 0.6050\n",
      "C = 2636.6509, n = 53 and acc = 0.6685, log loss = 0.6073\n",
      "C = 8858.6679, n = 53 and acc = 0.6658, log loss = 0.6127\n",
      "C = 29763.5144, n = 53 and acc = 0.6640, log loss = 0.6129\n",
      "C = 100000.0000, n = 53 and acc = 0.6712, log loss = 0.6119\n",
      "C = 0.0000, n = 79 and acc = 0.5265, log loss = 0.6930\n",
      "C = 0.0000, n = 79 and acc = 0.5265, log loss = 0.6930\n",
      "C = 0.0001, n = 79 and acc = 0.5265, log loss = 0.6929\n",
      "C = 0.0004, n = 79 and acc = 0.5265, log loss = 0.6929\n",
      "C = 0.0013, n = 79 and acc = 0.5265, log loss = 0.6929\n",
      "C = 0.0043, n = 79 and acc = 0.5265, log loss = 0.6928\n",
      "C = 0.0144, n = 79 and acc = 0.5265, log loss = 0.6926\n",
      "C = 0.0483, n = 79 and acc = 0.5265, log loss = 0.6920\n",
      "C = 0.1624, n = 79 and acc = 0.5265, log loss = 0.6899\n",
      "C = 0.5456, n = 79 and acc = 0.5265, log loss = 0.6845\n",
      "C = 1.8330, n = 79 and acc = 0.5346, log loss = 0.6727\n",
      "C = 6.1585, n = 79 and acc = 0.6379, log loss = 0.6521\n",
      "C = 20.6914, n = 79 and acc = 0.6658, log loss = 0.6276\n",
      "C = 69.5193, n = 79 and acc = 0.6730, log loss = 0.6074\n",
      "C = 233.5721, n = 79 and acc = 0.6694, log loss = 0.5969\n",
      "C = 784.7600, n = 79 and acc = 0.6739, log loss = 0.6017\n",
      "C = 2636.6509, n = 79 and acc = 0.6730, log loss = 0.6039\n",
      "C = 8858.6679, n = 79 and acc = 0.6757, log loss = 0.6038\n",
      "C = 29763.5144, n = 79 and acc = 0.6792, log loss = 0.6060\n",
      "C = 100000.0000, n = 79 and acc = 0.6757, log loss = 0.6099\n",
      "C = 0.0000, n = 106 and acc = 0.5265, log loss = 0.6930\n",
      "C = 0.0000, n = 106 and acc = 0.5265, log loss = 0.6930\n",
      "C = 0.0001, n = 106 and acc = 0.5265, log loss = 0.6929\n",
      "C = 0.0004, n = 106 and acc = 0.5265, log loss = 0.6929\n",
      "C = 0.0013, n = 106 and acc = 0.5265, log loss = 0.6929\n",
      "C = 0.0043, n = 106 and acc = 0.5265, log loss = 0.6928\n",
      "C = 0.0144, n = 106 and acc = 0.5265, log loss = 0.6926\n",
      "C = 0.0483, n = 106 and acc = 0.5265, log loss = 0.6920\n",
      "C = 0.1624, n = 106 and acc = 0.5265, log loss = 0.6899\n",
      "C = 0.5456, n = 106 and acc = 0.5265, log loss = 0.6845\n",
      "C = 1.8330, n = 106 and acc = 0.5346, log loss = 0.6727\n",
      "C = 6.1585, n = 106 and acc = 0.6370, log loss = 0.6521\n",
      "C = 20.6914, n = 106 and acc = 0.6658, log loss = 0.6262\n",
      "C = 69.5193, n = 106 and acc = 0.6739, log loss = 0.6069\n",
      "C = 233.5721, n = 106 and acc = 0.6703, log loss = 0.5969\n",
      "C = 784.7600, n = 106 and acc = 0.6801, log loss = 0.5986\n",
      "C = 2636.6509, n = 106 and acc = 0.6730, log loss = 0.6019\n",
      "C = 8858.6679, n = 106 and acc = 0.6721, log loss = 0.6098\n",
      "C = 29763.5144, n = 106 and acc = 0.6649, log loss = 0.6175\n",
      "C = 100000.0000, n = 106 and acc = 0.6667, log loss = 0.6143\n",
      "C = 0.0000, n = 132 and acc = 0.5265, log loss = 0.6930\n",
      "C = 0.0000, n = 132 and acc = 0.5265, log loss = 0.6930\n",
      "C = 0.0001, n = 132 and acc = 0.5265, log loss = 0.6929\n",
      "C = 0.0004, n = 132 and acc = 0.5265, log loss = 0.6929\n",
      "C = 0.0013, n = 132 and acc = 0.5265, log loss = 0.6929\n",
      "C = 0.0043, n = 132 and acc = 0.5265, log loss = 0.6928\n",
      "C = 0.0144, n = 132 and acc = 0.5265, log loss = 0.6926\n",
      "C = 0.0483, n = 132 and acc = 0.5265, log loss = 0.6920\n",
      "C = 0.1624, n = 132 and acc = 0.5265, log loss = 0.6899\n",
      "C = 0.5456, n = 132 and acc = 0.5265, log loss = 0.6845\n",
      "C = 1.8330, n = 132 and acc = 0.5346, log loss = 0.6727\n",
      "C = 6.1585, n = 132 and acc = 0.6406, log loss = 0.6520\n",
      "C = 20.6914, n = 132 and acc = 0.6649, log loss = 0.6266\n",
      "C = 69.5193, n = 132 and acc = 0.6730, log loss = 0.6061\n",
      "C = 233.5721, n = 132 and acc = 0.6730, log loss = 0.5935\n",
      "C = 784.7600, n = 132 and acc = 0.6828, log loss = 0.5969\n",
      "C = 2636.6509, n = 132 and acc = 0.6748, log loss = 0.6060\n",
      "C = 8858.6679, n = 132 and acc = 0.6685, log loss = 0.6108\n",
      "C = 29763.5144, n = 132 and acc = 0.6712, log loss = 0.6076\n",
      "C = 100000.0000, n = 132 and acc = 0.6721, log loss = 0.6138\n",
      "C = 0.0000, n = 158 and acc = 0.5265, log loss = 0.6930\n",
      "C = 0.0000, n = 158 and acc = 0.5265, log loss = 0.6930\n",
      "C = 0.0001, n = 158 and acc = 0.5265, log loss = 0.6929\n",
      "C = 0.0004, n = 158 and acc = 0.5265, log loss = 0.6929\n",
      "C = 0.0013, n = 158 and acc = 0.5265, log loss = 0.6929\n",
      "C = 0.0043, n = 158 and acc = 0.5265, log loss = 0.6928\n",
      "C = 0.0144, n = 158 and acc = 0.5265, log loss = 0.6926\n",
      "C = 0.0483, n = 158 and acc = 0.5265, log loss = 0.6920\n",
      "C = 0.1624, n = 158 and acc = 0.5265, log loss = 0.6899\n",
      "C = 0.5456, n = 158 and acc = 0.5265, log loss = 0.6845\n",
      "C = 1.8330, n = 158 and acc = 0.5346, log loss = 0.6726\n",
      "C = 6.1585, n = 158 and acc = 0.6415, log loss = 0.6520\n",
      "C = 20.6914, n = 158 and acc = 0.6640, log loss = 0.6268\n",
      "C = 69.5193, n = 158 and acc = 0.6748, log loss = 0.6059\n",
      "C = 233.5721, n = 158 and acc = 0.6748, log loss = 0.5926\n",
      "C = 784.7600, n = 158 and acc = 0.6810, log loss = 0.5946\n",
      "C = 2636.6509, n = 158 and acc = 0.6801, log loss = 0.6058\n",
      "C = 8858.6679, n = 158 and acc = 0.6810, log loss = 0.6126\n",
      "C = 29763.5144, n = 158 and acc = 0.6801, log loss = 0.6128\n",
      "C = 100000.0000, n = 158 and acc = 0.6667, log loss = 0.6159\n",
      "C = 0.0000, n = 184 and acc = 0.5265, log loss = 0.6930\n",
      "C = 0.0000, n = 184 and acc = 0.5265, log loss = 0.6930\n",
      "C = 0.0001, n = 184 and acc = 0.5265, log loss = 0.6929\n",
      "C = 0.0004, n = 184 and acc = 0.5265, log loss = 0.6929\n",
      "C = 0.0013, n = 184 and acc = 0.5265, log loss = 0.6929\n",
      "C = 0.0043, n = 184 and acc = 0.5265, log loss = 0.6928\n"
     ]
    },
    {
     "name": "stdout",
     "output_type": "stream",
     "text": [
      "C = 0.0144, n = 184 and acc = 0.5265, log loss = 0.6926\n",
      "C = 0.0483, n = 184 and acc = 0.5265, log loss = 0.6920\n",
      "C = 0.1624, n = 184 and acc = 0.5265, log loss = 0.6899\n",
      "C = 0.5456, n = 184 and acc = 0.5265, log loss = 0.6845\n",
      "C = 1.8330, n = 184 and acc = 0.5346, log loss = 0.6726\n",
      "C = 6.1585, n = 184 and acc = 0.6397, log loss = 0.6518\n",
      "C = 20.6914, n = 184 and acc = 0.6676, log loss = 0.6266\n",
      "C = 69.5193, n = 184 and acc = 0.6721, log loss = 0.6027\n",
      "C = 233.5721, n = 184 and acc = 0.6828, log loss = 0.5959\n",
      "C = 784.7600, n = 184 and acc = 0.6837, log loss = 0.5943\n",
      "C = 2636.6509, n = 184 and acc = 0.6774, log loss = 0.6076\n",
      "C = 8858.6679, n = 184 and acc = 0.6739, log loss = 0.6202\n",
      "C = 29763.5144, n = 184 and acc = 0.6739, log loss = 0.6185\n",
      "C = 100000.0000, n = 184 and acc = 0.6748, log loss = 0.6081\n",
      "C = 0.0000, n = 211 and acc = 0.5265, log loss = 0.6930\n",
      "C = 0.0000, n = 211 and acc = 0.5265, log loss = 0.6930\n",
      "C = 0.0001, n = 211 and acc = 0.5265, log loss = 0.6929\n",
      "C = 0.0004, n = 211 and acc = 0.5265, log loss = 0.6929\n",
      "C = 0.0013, n = 211 and acc = 0.5265, log loss = 0.6929\n",
      "C = 0.0043, n = 211 and acc = 0.5265, log loss = 0.6928\n",
      "C = 0.0144, n = 211 and acc = 0.5265, log loss = 0.6926\n",
      "C = 0.0483, n = 211 and acc = 0.5265, log loss = 0.6920\n",
      "C = 0.1624, n = 211 and acc = 0.5265, log loss = 0.6899\n",
      "C = 0.5456, n = 211 and acc = 0.5265, log loss = 0.6845\n",
      "C = 1.8330, n = 211 and acc = 0.5346, log loss = 0.6726\n",
      "C = 6.1585, n = 211 and acc = 0.6397, log loss = 0.6519\n",
      "C = 20.6914, n = 211 and acc = 0.6676, log loss = 0.6260\n",
      "C = 69.5193, n = 211 and acc = 0.6765, log loss = 0.6047\n",
      "C = 233.5721, n = 211 and acc = 0.6774, log loss = 0.5939\n",
      "C = 784.7600, n = 211 and acc = 0.6882, log loss = 0.5932\n",
      "C = 2636.6509, n = 211 and acc = 0.6730, log loss = 0.6125\n",
      "C = 8858.6679, n = 211 and acc = 0.6694, log loss = 0.6181\n",
      "C = 29763.5144, n = 211 and acc = 0.6739, log loss = 0.6160\n",
      "C = 100000.0000, n = 211 and acc = 0.6748, log loss = 0.6046\n",
      "C = 0.0000, n = 237 and acc = 0.5265, log loss = 0.6930\n",
      "C = 0.0000, n = 237 and acc = 0.5265, log loss = 0.6930\n",
      "C = 0.0001, n = 237 and acc = 0.5265, log loss = 0.6929\n",
      "C = 0.0004, n = 237 and acc = 0.5265, log loss = 0.6929\n",
      "C = 0.0013, n = 237 and acc = 0.5265, log loss = 0.6929\n",
      "C = 0.0043, n = 237 and acc = 0.5265, log loss = 0.6928\n",
      "C = 0.0144, n = 237 and acc = 0.5265, log loss = 0.6926\n",
      "C = 0.0483, n = 237 and acc = 0.5265, log loss = 0.6920\n",
      "C = 0.1624, n = 237 and acc = 0.5265, log loss = 0.6899\n",
      "C = 0.5456, n = 237 and acc = 0.5265, log loss = 0.6844\n",
      "C = 1.8330, n = 237 and acc = 0.5346, log loss = 0.6726\n",
      "C = 6.1585, n = 237 and acc = 0.6397, log loss = 0.6519\n",
      "C = 20.6914, n = 237 and acc = 0.6685, log loss = 0.6267\n",
      "C = 69.5193, n = 237 and acc = 0.6792, log loss = 0.6043\n",
      "C = 233.5721, n = 237 and acc = 0.6774, log loss = 0.5918\n",
      "C = 784.7600, n = 237 and acc = 0.6774, log loss = 0.5974\n",
      "C = 2636.6509, n = 237 and acc = 0.6748, log loss = 0.6049\n",
      "C = 8858.6679, n = 237 and acc = 0.6703, log loss = 0.6262\n",
      "C = 29763.5144, n = 237 and acc = 0.6810, log loss = 0.6241\n",
      "C = 100000.0000, n = 237 and acc = 0.6945, log loss = 0.6031\n",
      "C = 0.0000, n = 263 and acc = 0.5265, log loss = 0.6930\n",
      "C = 0.0000, n = 263 and acc = 0.5265, log loss = 0.6930\n",
      "C = 0.0001, n = 263 and acc = 0.5265, log loss = 0.6929\n",
      "C = 0.0004, n = 263 and acc = 0.5265, log loss = 0.6929\n",
      "C = 0.0013, n = 263 and acc = 0.5265, log loss = 0.6929\n",
      "C = 0.0043, n = 263 and acc = 0.5265, log loss = 0.6928\n",
      "C = 0.0144, n = 263 and acc = 0.5265, log loss = 0.6926\n",
      "C = 0.0483, n = 263 and acc = 0.5265, log loss = 0.6920\n",
      "C = 0.1624, n = 263 and acc = 0.5265, log loss = 0.6899\n",
      "C = 0.5456, n = 263 and acc = 0.5265, log loss = 0.6845\n",
      "C = 1.8330, n = 263 and acc = 0.5346, log loss = 0.6726\n",
      "C = 6.1585, n = 263 and acc = 0.6415, log loss = 0.6518\n",
      "C = 20.6914, n = 263 and acc = 0.6703, log loss = 0.6269\n",
      "C = 69.5193, n = 263 and acc = 0.6792, log loss = 0.6053\n",
      "C = 233.5721, n = 263 and acc = 0.6864, log loss = 0.5921\n",
      "C = 784.7600, n = 263 and acc = 0.6792, log loss = 0.6003\n",
      "C = 2636.6509, n = 263 and acc = 0.6810, log loss = 0.6057\n",
      "C = 8858.6679, n = 263 and acc = 0.6748, log loss = 0.6147\n",
      "C = 29763.5144, n = 263 and acc = 0.6810, log loss = 0.6028\n",
      "C = 100000.0000, n = 263 and acc = 0.6819, log loss = 0.6213\n",
      "C = 0.0000, n = 289 and acc = 0.5265, log loss = 0.6930\n",
      "C = 0.0000, n = 289 and acc = 0.5265, log loss = 0.6930\n",
      "C = 0.0001, n = 289 and acc = 0.5265, log loss = 0.6929\n",
      "C = 0.0004, n = 289 and acc = 0.5265, log loss = 0.6929\n",
      "C = 0.0013, n = 289 and acc = 0.5265, log loss = 0.6929\n",
      "C = 0.0043, n = 289 and acc = 0.5265, log loss = 0.6928\n",
      "C = 0.0144, n = 289 and acc = 0.5265, log loss = 0.6926\n",
      "C = 0.0483, n = 289 and acc = 0.5265, log loss = 0.6920\n",
      "C = 0.1624, n = 289 and acc = 0.5265, log loss = 0.6899\n",
      "C = 0.5456, n = 289 and acc = 0.5265, log loss = 0.6844\n",
      "C = 1.8330, n = 289 and acc = 0.5346, log loss = 0.6726\n",
      "C = 6.1585, n = 289 and acc = 0.6397, log loss = 0.6517\n",
      "C = 20.6914, n = 289 and acc = 0.6676, log loss = 0.6261\n",
      "C = 69.5193, n = 289 and acc = 0.6792, log loss = 0.6031\n",
      "C = 233.5721, n = 289 and acc = 0.6801, log loss = 0.5925\n",
      "C = 784.7600, n = 289 and acc = 0.6801, log loss = 0.6003\n",
      "C = 2636.6509, n = 289 and acc = 0.6757, log loss = 0.6086\n",
      "C = 8858.6679, n = 289 and acc = 0.6792, log loss = 0.6205\n",
      "C = 29763.5144, n = 289 and acc = 0.6981, log loss = 0.6006\n",
      "C = 100000.0000, n = 289 and acc = 0.6900, log loss = 0.5996\n",
      "C = 0.0000, n = 316 and acc = 0.5265, log loss = 0.6930\n",
      "C = 0.0000, n = 316 and acc = 0.5265, log loss = 0.6930\n",
      "C = 0.0001, n = 316 and acc = 0.5265, log loss = 0.6929\n",
      "C = 0.0004, n = 316 and acc = 0.5265, log loss = 0.6929\n",
      "C = 0.0013, n = 316 and acc = 0.5265, log loss = 0.6929\n",
      "C = 0.0043, n = 316 and acc = 0.5265, log loss = 0.6928\n",
      "C = 0.0144, n = 316 and acc = 0.5265, log loss = 0.6926\n",
      "C = 0.0483, n = 316 and acc = 0.5265, log loss = 0.6920\n",
      "C = 0.1624, n = 316 and acc = 0.5265, log loss = 0.6899\n",
      "C = 0.5456, n = 316 and acc = 0.5265, log loss = 0.6844\n",
      "C = 1.8330, n = 316 and acc = 0.5346, log loss = 0.6726\n",
      "C = 6.1585, n = 316 and acc = 0.6415, log loss = 0.6519\n",
      "C = 20.6914, n = 316 and acc = 0.6667, log loss = 0.6269\n",
      "C = 69.5193, n = 316 and acc = 0.6792, log loss = 0.6071\n",
      "C = 233.5721, n = 316 and acc = 0.6730, log loss = 0.5922\n",
      "C = 784.7600, n = 316 and acc = 0.6810, log loss = 0.5952\n",
      "C = 2636.6509, n = 316 and acc = 0.6819, log loss = 0.6093\n",
      "C = 8858.6679, n = 316 and acc = 0.6864, log loss = 0.6055\n",
      "C = 29763.5144, n = 316 and acc = 0.6783, log loss = 0.6063\n",
      "C = 100000.0000, n = 316 and acc = 0.6828, log loss = 0.6048\n",
      "C = 0.0000, n = 342 and acc = 0.5265, log loss = 0.6930\n",
      "C = 0.0000, n = 342 and acc = 0.5265, log loss = 0.6930\n",
      "C = 0.0001, n = 342 and acc = 0.5265, log loss = 0.6929\n",
      "C = 0.0004, n = 342 and acc = 0.5265, log loss = 0.6929\n",
      "C = 0.0013, n = 342 and acc = 0.5265, log loss = 0.6929\n"
     ]
    }
   ],
   "source": [
    "# CELL 6 : TRYING OUT PCAs and C VALUES \n",
    "# range for pca components\n",
    "pca = np.linspace(1, 500, 20, dtype=int)\n",
    "c_range = np.geomspace(1e-5, 1e5,num=20)\n",
    "\n",
    "ll_pca = []\n",
    "acc_pca =[] \n",
    "\n",
    "# for loop to calculate log loss and accuracy for different components\n",
    "for i in pca:\n",
    "    scores =[]\n",
    "    losses =[]\n",
    "    for c in c_range:\n",
    "        pca = PCA(n_components=i)\n",
    "\n",
    "        train = pca.fit_transform(X_train)\n",
    "        validate = pca.transform(X_validate)\n",
    "        \n",
    "        log_reg =LogisticRegression(solver ='lbfgs', C=c)\n",
    "        \n",
    "        log_reg.fit(train,y_train)\n",
    "        preds = log_reg.predict_proba(validate)\n",
    "        loss = log_loss(y_validate, preds)\n",
    "        score = log_reg.score(validate, y_validate)\n",
    "        scores.append(score)\n",
    "        losses.append(loss)\n",
    "        print('C = {:.4f}, n = {} and acc = {:.4f}, log loss = {:.4f}'.format(c, i,score,loss))\n",
    "    \n",
    "    ll_pca.append(losses)\n",
    "    acc_pca.append(scores)\n",
    "        \n",
    "       "
   ]
  },
  {
   "cell_type": "code",
   "execution_count": null,
   "metadata": {},
   "outputs": [],
   "source": []
  },
  {
   "cell_type": "markdown",
   "metadata": {},
   "source": [
    "#ANSWER_TEXT#\n",
    "\n",
    "- Navive Bayes Gaussian Classfiier \n",
    "    - I decided to try a Navive Bayes Gaussian Classifier due to the fact that our classification is based on binary problem, if there is a person or not\n",
    "    - Coding it from cell 1 above we see that the log loss is 18.1848\n",
    "- PCAS on different components with the Naive Bayes Gaussian Classifier \n",
    "    - I thought then trying PCAS on the data would improve the accuracy due to the fact at when I thought about how you really classify wheather a person is in a picture or not, not all attributes will have an effect. There will be a few that will determine wheather a person is there or not.\n",
    "    - I then decided to test PCAs with different components as shown in cell 2. The graphs shows the log loss and the accuracy of the validation set\n",
    "    - From the results we can see that the lowest log loss was 0.6929 with 1 component and the highest log loss was 5.4318 with 500 components.\n",
    "- Support Vector Machine \n",
    "    - I think this may be a good idea because again, we want to determine wheather their is a person or not which is binary problem and a support vector machine will classify points into these two catergories well.\n",
    "    - We first try three different SVMs:\n",
    "        - linear:\n",
    "        - rbf :\n",
    "        - polynoimal\n",
    "    - Actually looking at the log loss for this, it is quite low, almost compared to Gaussian distrubutions with PCAs, however the accuracy is quite low \n",
    "- Logisitc Regression\n",
    " -\n"
   ]
  },
  {
   "cell_type": "code",
   "execution_count": null,
   "metadata": {},
   "outputs": [],
   "source": [
    "#ANSWER_PROB#\n",
    "# Run this cell when you are ready to submit your test-set probabilities. This cell will generate some\n",
    "# warning messages if something is not right: make sure to address them!\n",
    "if pred_probabilities.shape != (1114, 2):\n",
    "    print('Array is of incorrect shape. Rectify this before submitting.')\n",
    "elif (pred_probabilities.sum(axis=1) != 1.0).all():\n",
    "    print('Submitted values are not correct probabilities. Rectify this before submitting.')\n",
    "else:\n",
    "    for _prob in pred_probabilities:\n",
    "        print('{:.8f}, {:.8f}'.format(_prob[0], _prob[1]))"
   ]
  }
 ],
 "metadata": {
  "anaconda-cloud": {},
  "kernelspec": {
   "display_name": "Python 3",
   "language": "python",
   "name": "python3"
  },
  "language_info": {
   "codemirror_mode": {
    "name": "ipython",
    "version": 3
   },
   "file_extension": ".py",
   "mimetype": "text/x-python",
   "name": "python",
   "nbconvert_exporter": "python",
   "pygments_lexer": "ipython3",
   "version": "3.7.0"
  }
 },
 "nbformat": 4,
 "nbformat_minor": 1
}
